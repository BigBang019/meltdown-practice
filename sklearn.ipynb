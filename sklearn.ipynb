{
 "metadata": {
  "language_info": {
   "codemirror_mode": {
    "name": "ipython",
    "version": 3
   },
   "file_extension": ".py",
   "mimetype": "text/x-python",
   "name": "python",
   "nbconvert_exporter": "python",
   "pygments_lexer": "ipython3",
   "version": "3.8.3-final"
  },
  "orig_nbformat": 2,
  "kernelspec": {
   "name": "python3",
   "display_name": "Python 3",
   "language": "python"
  }
 },
 "nbformat": 4,
 "nbformat_minor": 2,
 "cells": [
  {
   "cell_type": "code",
   "execution_count": 44,
   "metadata": {},
   "outputs": [
    {
     "output_type": "execute_result",
     "data": {
      "text/plain": [
       "0.9727272727272728"
      ]
     },
     "metadata": {},
     "execution_count": 44
    }
   ],
   "source": [
    "import pandas as pd\n",
    "from sklearn import svm\n",
    "from sklearn.model_selection import train_test_split\n",
    "FEATURES = ['PAPI_L3_TCM', 'PAPI_STL_ICY', 'PAPI_CA_SHR' ,'PAPI_BR_CN']\n",
    "DATASET_PATH = './meltdown-practice/dataset'\n",
    "train_dataset = pd.read_csv(os.path.join(DATASET_PATH, 'train.txt'))\n",
    "X_train, X_test, y_train, y_test = train_test_split(train_dataset[FEATURES], train_dataset['LABEL'], test_size=0.3, random_state=0) \n",
    "\n",
    "clf_svc = svm.LinearSVC()\n",
    "clf_svc.fit(X_train,y_train)\n",
    "clf_svc.score(X_test, y_test)"
   ]
  },
  {
   "cell_type": "code",
   "execution_count": 45,
   "metadata": {},
   "outputs": [
    {
     "output_type": "stream",
     "name": "stdout",
     "text": [
      "[[-0.00899997  0.0004898  -0.00678758 -0.00039939]]\n[-0.9960781]\n"
     ]
    }
   ],
   "source": [
    "print(clf_svc.coef_)\r\n",
    "print(clf_svc.intercept_)"
   ]
  },
  {
   "cell_type": "code",
   "execution_count": 60,
   "metadata": {},
   "outputs": [],
   "source": []
  },
  {
   "cell_type": "code",
   "execution_count": 61,
   "metadata": {},
   "outputs": [],
   "source": []
  },
  {
   "cell_type": "code",
   "execution_count": 62,
   "metadata": {},
   "outputs": [
    {
     "output_type": "execute_result",
     "data": {
      "text/plain": [
       "[('firefox',\n",
       "  0          0\n",
       "  1     211003\n",
       "  2     219065\n",
       "  3     189629\n",
       "  4     787093\n",
       "         ...  \n",
       "  95    214844\n",
       "  96    194532\n",
       "  97    197293\n",
       "  98    209464\n",
       "  99    214819\n",
       "  Name: PAPI_L3_TCM, Length: 100, dtype: int64),\n",
       " ('main',\n",
       "  0        1285\n",
       "  1     1416203\n",
       "  2      322263\n",
       "  3     1597829\n",
       "  4     1326639\n",
       "         ...   \n",
       "  95    2152117\n",
       "  96     948805\n",
       "  97     486151\n",
       "  98    3083392\n",
       "  99    3327999\n",
       "  Name: PAPI_L3_TCM, Length: 100, dtype: int64),\n",
       " ('meltdown',\n",
       "  0          0\n",
       "  1     138417\n",
       "  2     463117\n",
       "  3     421561\n",
       "  4     186927\n",
       "         ...  \n",
       "  95    199712\n",
       "  96    197856\n",
       "  97    186963\n",
       "  98    199615\n",
       "  99    187553\n",
       "  Name: PAPI_L3_TCM, Length: 100, dtype: int64)]"
      ]
     },
     "metadata": {},
     "execution_count": 62
    }
   ],
   "source": []
  },
  {
   "cell_type": "code",
   "execution_count": null,
   "metadata": {},
   "outputs": [],
   "source": []
  }
 ]
}